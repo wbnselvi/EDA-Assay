{
  "cells": [
    {
      "cell_type": "markdown",
      "metadata": {
        "id": "view-in-github",
        "colab_type": "text"
      },
      "source": [
        "<a href=\"https://colab.research.google.com/github/wbnselvi/EDA-Assay/blob/main/EDA-Assay.ipynb\" target=\"_parent\"><img src=\"https://colab.research.google.com/assets/colab-badge.svg\" alt=\"Open In Colab\"/></a>"
      ]
    },
    {
      "cell_type": "markdown",
      "id": "192dbcfa",
      "metadata": {
        "id": "192dbcfa"
      },
      "source": [
        "# Exploratory Data Analysis (EDA) Pada Data Assay Nikel Laterite\n",
        "\n",
        "Setelah data cleaning, kita melakukan Exploratory Data Analysis pada data Assay.\n",
        "Dari EDA kita bisa melihat kecenderungan data sekaligus juga melihat kesesuaian interpretasi layer geologi yang dilakukan geologis pada tahap Evaluation dengan model umum profil laterit.\n",
        "Contoh hal yang harus diperhatikan :\n",
        "* Domaining Fe, pada layer limonite tidak boleh lebih dari satu domain, ditunjukkan oleh histogram yang positively skewed.\n",
        "* Cluster MgO pada bedrock cenderung tinggi, sedangkan di limonite akan rendah, dengan sedikit outlier (kategori MgO, Fe, Ni biasanya ditentukan oleh Principal Geologist untuk area tertentu, pada data ini MgO > 25 = tinggi (penciri area bedrock)).\n",
        "* Cluster Fe pada limonite cenderung paling tinggi, dan sebaliknya di bedrock, gunakan scatter plot Fe6 vs MgO6 Limonite.\n",
        "* Jika outlier lebih besar dari 5% kembalikan data Assay pada Geologis Evaluasi untuk diinterpretasi dan di kros cek dengan foto core atau direassay. \n",
        "* Sebaran Ni limonite berbentuk normal distribution\n",
        "* Gunakan scatter plot Fe vs Cr di Saprolite untuk melihat korelasi positif keduanya.\n",
        "* Dst yang dianggap perlu.\n",
        " \n",
        " ## Selvi Yuminti\n",
        " Version 1.0\n",
        " Agustus 2022"
      ]
    },
    {
      "cell_type": "markdown",
      "id": "d35f81a1",
      "metadata": {
        "id": "d35f81a1"
      },
      "source": [
        "### Import Modules"
      ]
    },
    {
      "cell_type": "code",
      "execution_count": 49,
      "id": "f3b9cd45",
      "metadata": {
        "id": "f3b9cd45"
      },
      "outputs": [],
      "source": [
        "import pandas as pd # Modul yang dipakai untuk mengolah dan analisis data"
      ]
    },
    {
      "cell_type": "code",
      "execution_count": 55,
      "id": "579660ec",
      "metadata": {
        "id": "579660ec"
      },
      "outputs": [],
      "source": [
        "import matplotlib.pyplot as plt # visualisasi data\n",
        "import seaborn as sns # visualisasi data\n",
        "\n",
        "# output dari visualisasi data akan diarahkan ke notebook\n",
        "%matplotlib inline "
      ]
    },
    {
      "cell_type": "markdown",
      "id": "b9ccf31a",
      "metadata": {
        "id": "b9ccf31a"
      },
      "source": [
        "#### Load dataset"
      ]
    },
    {
      "cell_type": "code",
      "execution_count": 50,
      "id": "c3ef3907",
      "metadata": {
        "scrolled": true,
        "id": "c3ef3907",
        "outputId": "f61c2986-8767-49eb-c8c5-ffa37d162fb5",
        "colab": {
          "base_uri": "https://localhost:8080/",
          "height": 297
        }
      },
      "outputs": [
        {
          "output_type": "execute_result",
          "data": {
            "text/plain": [
              "  Sub pit   DH ID Deposit  DPO ID  DepthFrom  DepthTo  LENGTH  Sample Rec_Pct  \\\n",
              "0      BN  BN0513      BN  BN0064        0.0      1.0     1.0           100.0   \n",
              "1      BN  BN0513      BN  BN0064        1.0      2.0     1.3           100.0   \n",
              "2      BN  BN0513      BN  BN0064        2.0      3.0     0.7           100.0   \n",
              "3      BN  BN0513      BN  BN0064        3.0      4.0     1.0            90.0   \n",
              "4      BN  BN0513      BN  BN0064        4.0      5.0     1.0            80.0   \n",
              "\n",
              "  Major Minor  ...  Lithology  Ore Ore_limit Remark  Batas_Interp        XA  \\\n",
              "0   LIM   NaN  ...        NaN  NaN       NaN    NaN           NaN  393500.0   \n",
              "1   LIM   NaN  ...        NaN  NaN       NaN    NaN           NaN  393500.0   \n",
              "2  FSAP   NaN  ...        NaN  NaN       NaN    NaN           NaN  393500.0   \n",
              "3  RSAP   CST  ...        NaN  NaN       NaN    NaN           NaN  393500.0   \n",
              "4  RSAP   CST  ...        NaN  NaN       NaN    NaN           NaN  393500.0   \n",
              "\n",
              "        YA  ZA  Depth (Log)  Contractor  \n",
              "0  81600.0 NaN         13.0        BPMS  \n",
              "1  81600.0 NaN         13.0        BPMS  \n",
              "2  81600.0 NaN         13.0        BPMS  \n",
              "3  81600.0 NaN         13.0        BPMS  \n",
              "4  81600.0 NaN         13.0        BPMS  \n",
              "\n",
              "[5 rows x 51 columns]"
            ],
            "text/html": [
              "\n",
              "  <div id=\"df-e285262d-5a50-473c-bcb2-208c8954be25\">\n",
              "    <div class=\"colab-df-container\">\n",
              "      <div>\n",
              "<style scoped>\n",
              "    .dataframe tbody tr th:only-of-type {\n",
              "        vertical-align: middle;\n",
              "    }\n",
              "\n",
              "    .dataframe tbody tr th {\n",
              "        vertical-align: top;\n",
              "    }\n",
              "\n",
              "    .dataframe thead th {\n",
              "        text-align: right;\n",
              "    }\n",
              "</style>\n",
              "<table border=\"1\" class=\"dataframe\">\n",
              "  <thead>\n",
              "    <tr style=\"text-align: right;\">\n",
              "      <th></th>\n",
              "      <th>Sub pit</th>\n",
              "      <th>DH ID</th>\n",
              "      <th>Deposit</th>\n",
              "      <th>DPO ID</th>\n",
              "      <th>DepthFrom</th>\n",
              "      <th>DepthTo</th>\n",
              "      <th>LENGTH</th>\n",
              "      <th>Sample Rec_Pct</th>\n",
              "      <th>Major</th>\n",
              "      <th>Minor</th>\n",
              "      <th>...</th>\n",
              "      <th>Lithology</th>\n",
              "      <th>Ore</th>\n",
              "      <th>Ore_limit</th>\n",
              "      <th>Remark</th>\n",
              "      <th>Batas_Interp</th>\n",
              "      <th>XA</th>\n",
              "      <th>YA</th>\n",
              "      <th>ZA</th>\n",
              "      <th>Depth (Log)</th>\n",
              "      <th>Contractor</th>\n",
              "    </tr>\n",
              "  </thead>\n",
              "  <tbody>\n",
              "    <tr>\n",
              "      <th>0</th>\n",
              "      <td>BN</td>\n",
              "      <td>BN0513</td>\n",
              "      <td>BN</td>\n",
              "      <td>BN0064</td>\n",
              "      <td>0.0</td>\n",
              "      <td>1.0</td>\n",
              "      <td>1.0</td>\n",
              "      <td>100.0</td>\n",
              "      <td>LIM</td>\n",
              "      <td>NaN</td>\n",
              "      <td>...</td>\n",
              "      <td>NaN</td>\n",
              "      <td>NaN</td>\n",
              "      <td>NaN</td>\n",
              "      <td>NaN</td>\n",
              "      <td>NaN</td>\n",
              "      <td>393500.0</td>\n",
              "      <td>81600.0</td>\n",
              "      <td>NaN</td>\n",
              "      <td>13.0</td>\n",
              "      <td>BPMS</td>\n",
              "    </tr>\n",
              "    <tr>\n",
              "      <th>1</th>\n",
              "      <td>BN</td>\n",
              "      <td>BN0513</td>\n",
              "      <td>BN</td>\n",
              "      <td>BN0064</td>\n",
              "      <td>1.0</td>\n",
              "      <td>2.0</td>\n",
              "      <td>1.3</td>\n",
              "      <td>100.0</td>\n",
              "      <td>LIM</td>\n",
              "      <td>NaN</td>\n",
              "      <td>...</td>\n",
              "      <td>NaN</td>\n",
              "      <td>NaN</td>\n",
              "      <td>NaN</td>\n",
              "      <td>NaN</td>\n",
              "      <td>NaN</td>\n",
              "      <td>393500.0</td>\n",
              "      <td>81600.0</td>\n",
              "      <td>NaN</td>\n",
              "      <td>13.0</td>\n",
              "      <td>BPMS</td>\n",
              "    </tr>\n",
              "    <tr>\n",
              "      <th>2</th>\n",
              "      <td>BN</td>\n",
              "      <td>BN0513</td>\n",
              "      <td>BN</td>\n",
              "      <td>BN0064</td>\n",
              "      <td>2.0</td>\n",
              "      <td>3.0</td>\n",
              "      <td>0.7</td>\n",
              "      <td>100.0</td>\n",
              "      <td>FSAP</td>\n",
              "      <td>NaN</td>\n",
              "      <td>...</td>\n",
              "      <td>NaN</td>\n",
              "      <td>NaN</td>\n",
              "      <td>NaN</td>\n",
              "      <td>NaN</td>\n",
              "      <td>NaN</td>\n",
              "      <td>393500.0</td>\n",
              "      <td>81600.0</td>\n",
              "      <td>NaN</td>\n",
              "      <td>13.0</td>\n",
              "      <td>BPMS</td>\n",
              "    </tr>\n",
              "    <tr>\n",
              "      <th>3</th>\n",
              "      <td>BN</td>\n",
              "      <td>BN0513</td>\n",
              "      <td>BN</td>\n",
              "      <td>BN0064</td>\n",
              "      <td>3.0</td>\n",
              "      <td>4.0</td>\n",
              "      <td>1.0</td>\n",
              "      <td>90.0</td>\n",
              "      <td>RSAP</td>\n",
              "      <td>CST</td>\n",
              "      <td>...</td>\n",
              "      <td>NaN</td>\n",
              "      <td>NaN</td>\n",
              "      <td>NaN</td>\n",
              "      <td>NaN</td>\n",
              "      <td>NaN</td>\n",
              "      <td>393500.0</td>\n",
              "      <td>81600.0</td>\n",
              "      <td>NaN</td>\n",
              "      <td>13.0</td>\n",
              "      <td>BPMS</td>\n",
              "    </tr>\n",
              "    <tr>\n",
              "      <th>4</th>\n",
              "      <td>BN</td>\n",
              "      <td>BN0513</td>\n",
              "      <td>BN</td>\n",
              "      <td>BN0064</td>\n",
              "      <td>4.0</td>\n",
              "      <td>5.0</td>\n",
              "      <td>1.0</td>\n",
              "      <td>80.0</td>\n",
              "      <td>RSAP</td>\n",
              "      <td>CST</td>\n",
              "      <td>...</td>\n",
              "      <td>NaN</td>\n",
              "      <td>NaN</td>\n",
              "      <td>NaN</td>\n",
              "      <td>NaN</td>\n",
              "      <td>NaN</td>\n",
              "      <td>393500.0</td>\n",
              "      <td>81600.0</td>\n",
              "      <td>NaN</td>\n",
              "      <td>13.0</td>\n",
              "      <td>BPMS</td>\n",
              "    </tr>\n",
              "  </tbody>\n",
              "</table>\n",
              "<p>5 rows × 51 columns</p>\n",
              "</div>\n",
              "      <button class=\"colab-df-convert\" onclick=\"convertToInteractive('df-e285262d-5a50-473c-bcb2-208c8954be25')\"\n",
              "              title=\"Convert this dataframe to an interactive table.\"\n",
              "              style=\"display:none;\">\n",
              "        \n",
              "  <svg xmlns=\"http://www.w3.org/2000/svg\" height=\"24px\"viewBox=\"0 0 24 24\"\n",
              "       width=\"24px\">\n",
              "    <path d=\"M0 0h24v24H0V0z\" fill=\"none\"/>\n",
              "    <path d=\"M18.56 5.44l.94 2.06.94-2.06 2.06-.94-2.06-.94-.94-2.06-.94 2.06-2.06.94zm-11 1L8.5 8.5l.94-2.06 2.06-.94-2.06-.94L8.5 2.5l-.94 2.06-2.06.94zm10 10l.94 2.06.94-2.06 2.06-.94-2.06-.94-.94-2.06-.94 2.06-2.06.94z\"/><path d=\"M17.41 7.96l-1.37-1.37c-.4-.4-.92-.59-1.43-.59-.52 0-1.04.2-1.43.59L10.3 9.45l-7.72 7.72c-.78.78-.78 2.05 0 2.83L4 21.41c.39.39.9.59 1.41.59.51 0 1.02-.2 1.41-.59l7.78-7.78 2.81-2.81c.8-.78.8-2.07 0-2.86zM5.41 20L4 18.59l7.72-7.72 1.47 1.35L5.41 20z\"/>\n",
              "  </svg>\n",
              "      </button>\n",
              "      \n",
              "  <style>\n",
              "    .colab-df-container {\n",
              "      display:flex;\n",
              "      flex-wrap:wrap;\n",
              "      gap: 12px;\n",
              "    }\n",
              "\n",
              "    .colab-df-convert {\n",
              "      background-color: #E8F0FE;\n",
              "      border: none;\n",
              "      border-radius: 50%;\n",
              "      cursor: pointer;\n",
              "      display: none;\n",
              "      fill: #1967D2;\n",
              "      height: 32px;\n",
              "      padding: 0 0 0 0;\n",
              "      width: 32px;\n",
              "    }\n",
              "\n",
              "    .colab-df-convert:hover {\n",
              "      background-color: #E2EBFA;\n",
              "      box-shadow: 0px 1px 2px rgba(60, 64, 67, 0.3), 0px 1px 3px 1px rgba(60, 64, 67, 0.15);\n",
              "      fill: #174EA6;\n",
              "    }\n",
              "\n",
              "    [theme=dark] .colab-df-convert {\n",
              "      background-color: #3B4455;\n",
              "      fill: #D2E3FC;\n",
              "    }\n",
              "\n",
              "    [theme=dark] .colab-df-convert:hover {\n",
              "      background-color: #434B5C;\n",
              "      box-shadow: 0px 1px 3px 1px rgba(0, 0, 0, 0.15);\n",
              "      filter: drop-shadow(0px 1px 2px rgba(0, 0, 0, 0.3));\n",
              "      fill: #FFFFFF;\n",
              "    }\n",
              "  </style>\n",
              "\n",
              "      <script>\n",
              "        const buttonEl =\n",
              "          document.querySelector('#df-e285262d-5a50-473c-bcb2-208c8954be25 button.colab-df-convert');\n",
              "        buttonEl.style.display =\n",
              "          google.colab.kernel.accessAllowed ? 'block' : 'none';\n",
              "\n",
              "        async function convertToInteractive(key) {\n",
              "          const element = document.querySelector('#df-e285262d-5a50-473c-bcb2-208c8954be25');\n",
              "          const dataTable =\n",
              "            await google.colab.kernel.invokeFunction('convertToInteractive',\n",
              "                                                     [key], {});\n",
              "          if (!dataTable) return;\n",
              "\n",
              "          const docLinkHtml = 'Like what you see? Visit the ' +\n",
              "            '<a target=\"_blank\" href=https://colab.research.google.com/notebooks/data_table.ipynb>data table notebook</a>'\n",
              "            + ' to learn more about interactive tables.';\n",
              "          element.innerHTML = '';\n",
              "          dataTable['output_type'] = 'display_data';\n",
              "          await google.colab.output.renderOutput(dataTable, element);\n",
              "          const docLink = document.createElement('div');\n",
              "          docLink.innerHTML = docLinkHtml;\n",
              "          element.appendChild(docLink);\n",
              "        }\n",
              "      </script>\n",
              "    </div>\n",
              "  </div>\n",
              "  "
            ]
          },
          "metadata": {},
          "execution_count": 50
        }
      ],
      "source": [
        "from google.colab import drive\n",
        "assay_df = pd.read_excel('/content/sample_data/assay.xlsx') # memuat file excel atau csv sebagai data frame\n",
        "assay_df.head() # tampilkan 5 baris pertama\n"
      ]
    },
    {
      "cell_type": "markdown",
      "source": [
        "#### Buang kolom yang tidak diperlukan"
      ],
      "metadata": {
        "id": "J1KdsCVxVQCK"
      },
      "id": "J1KdsCVxVQCK"
    },
    {
      "cell_type": "code",
      "source": [
        "assay_df.drop([\"Sub pit\",\"Deposit\", \"Minor\", \"Minor_Pct\", \"Rig ID\",\"Geologist\",\"StartDrilling\",\"FinishDrilling\", \"Dry_dens\",\"K2O\",\"Na2O\",\"TiO2\",\"Mg_inform\",\"Ni_Co\",\"Lithology\",\"Ore\",\"Ore_limit\",\"Remark\",\"Batas_Interp\",\"Depth (Log)\",\"XA\",\"YA\",\"ZA\",\"Contractor\"], axis = 1, inplace = True)"
      ],
      "metadata": {
        "id": "UbD8aKtXFyKc"
      },
      "id": "UbD8aKtXFyKc",
      "execution_count": 51,
      "outputs": []
    },
    {
      "cell_type": "markdown",
      "id": "142a1b4c",
      "metadata": {
        "id": "142a1b4c"
      },
      "source": [
        "#### Identify the shape of the dataset"
      ]
    },
    {
      "cell_type": "code",
      "execution_count": 76,
      "id": "6991c4ef",
      "metadata": {
        "id": "6991c4ef",
        "outputId": "e9e7dbc5-48a1-40ec-df29-1609b23ec438",
        "colab": {
          "base_uri": "https://localhost:8080/"
        }
      },
      "outputs": [
        {
          "output_type": "execute_result",
          "data": {
            "text/plain": [
              "(4807, 27)"
            ]
          },
          "metadata": {},
          "execution_count": 76
        }
      ],
      "source": [
        "assay_df.shape # bentuk/dimensi dataset (baris,kolom)"
      ]
    },
    {
      "cell_type": "markdown",
      "id": "91f59d1a",
      "metadata": {
        "id": "91f59d1a"
      },
      "source": [
        "#### Get the list of columns"
      ]
    },
    {
      "cell_type": "code",
      "execution_count": 53,
      "id": "825e0028",
      "metadata": {
        "id": "825e0028",
        "outputId": "08182cd8-e21c-4108-bdd4-fc3aeb59a198",
        "colab": {
          "base_uri": "https://localhost:8080/"
        }
      },
      "outputs": [
        {
          "output_type": "execute_result",
          "data": {
            "text/plain": [
              "Index(['DH ID', 'DPO ID', 'DepthFrom', 'DepthTo', 'LENGTH', 'Sample Rec_Pct',\n",
              "       'Major', 'Rock %', 'Sample_id', 'QC', 'Ni', 'Co', 'Al2O3', 'CaO',\n",
              "       'Cr2O3', 'Fe2O3', 'TFe', 'MgO', 'BCMgO', 'MnO', 'P2O5', 'SiO2',\n",
              "       'SiO2/MgO', 'LOI', 'MC', 'MC_S', 'Alt_index'],\n",
              "      dtype='object')"
            ]
          },
          "metadata": {},
          "execution_count": 53
        }
      ],
      "source": [
        "assay_df.columns # daftar nama kolom"
      ]
    },
    {
      "cell_type": "markdown",
      "id": "ad14d2c4",
      "metadata": {
        "id": "ad14d2c4"
      },
      "source": [
        "#### Describe the dataset"
      ]
    },
    {
      "cell_type": "code",
      "execution_count": 54,
      "id": "81101c73",
      "metadata": {
        "id": "81101c73",
        "outputId": "e7d9bdc9-34bb-416b-e2cb-3df778e5fbdc",
        "colab": {
          "base_uri": "https://localhost:8080/",
          "height": 411
        }
      },
      "outputs": [
        {
          "output_type": "execute_result",
          "data": {
            "text/plain": [
              "        DepthFrom      DepthTo       LENGTH  Sample Rec_Pct       Rock %  \\\n",
              "count  4725.00000  4725.000000  4740.000000     1581.000000  1971.000000   \n",
              "mean     12.49367    13.489807     1.055479       95.207691    71.497463   \n",
              "std       9.35294     9.356663     2.307985       11.851609    32.646619   \n",
              "min       0.00000     0.500000     0.000000       15.000000     2.000000   \n",
              "25%       5.00000     6.000000     1.000000      100.000000    40.000000   \n",
              "50%      11.00000    12.000000     1.000000      100.000000    85.000000   \n",
              "75%      18.00000    19.000000     1.000000      100.000000   100.000000   \n",
              "max      56.00000    57.000000    85.000000      100.000000   354.000000   \n",
              "\n",
              "                Ni           Co        Al2O3          CaO        Cr2O3  ...  \\\n",
              "count  4800.000000  4800.000000  4800.000000  4800.000000  4800.000000  ...   \n",
              "mean      0.807644     0.047059     3.347232     0.307105     1.368966  ...   \n",
              "std       0.544707     0.075558     4.951628     1.071067     1.506964  ...   \n",
              "min       0.000000     0.000890     0.100650     0.008500     0.000000  ...   \n",
              "25%       0.340000     0.009800     0.435600     0.019600     0.434250  ...   \n",
              "50%       0.699000     0.010200     0.825552     0.049000     0.690000  ...   \n",
              "75%       1.130000     0.058800     4.218234     0.130000     1.833650  ...   \n",
              "max       3.308000     1.225700    30.596001    10.781400    13.460000  ...   \n",
              "\n",
              "               MgO        BCMgO          MnO         P2O5         SiO2  \\\n",
              "count  4800.000000  4797.000000  4800.000000  4800.000000  4800.000000   \n",
              "mean     21.383248    22.259425     0.366468     0.014522    38.924622   \n",
              "std      14.062890    61.582144     0.575353     0.044688    13.523412   \n",
              "min       0.247500     0.247500     0.010200     0.000680     2.701177   \n",
              "25%       4.570000     4.588100     0.107800     0.003201    37.089750   \n",
              "50%      26.462700    26.510250     0.159400     0.004737    40.973300   \n",
              "75%      34.182837    34.184700     0.339500     0.008703    45.628800   \n",
              "max      43.978200  4174.000000    11.474200     0.702474    81.417600   \n",
              "\n",
              "          SiO2/MgO          LOI           MC         MC_S    Alt_index  \n",
              "count  4797.000000  4800.000000  4800.000000  4800.000000  4800.000000  \n",
              "mean      6.563669    11.564348    26.133825     0.261338     2.134417  \n",
              "std      12.938905     2.185957    13.077820     0.130778     1.874820  \n",
              "min       0.009750     2.170000     0.097971     0.000980     0.003191  \n",
              "25%       1.204215    10.660533    15.090089     0.150901     0.117074  \n",
              "50%       1.704796    11.900000    26.946994     0.269470     2.004579  \n",
              "75%       5.032548    12.918485    36.866085     0.368661     3.727116  \n",
              "max     179.812500    39.601386    63.289185     0.632892     9.347089  \n",
              "\n",
              "[8 rows x 22 columns]"
            ],
            "text/html": [
              "\n",
              "  <div id=\"df-08b8f71c-7a09-405f-8d0c-008039e5247a\">\n",
              "    <div class=\"colab-df-container\">\n",
              "      <div>\n",
              "<style scoped>\n",
              "    .dataframe tbody tr th:only-of-type {\n",
              "        vertical-align: middle;\n",
              "    }\n",
              "\n",
              "    .dataframe tbody tr th {\n",
              "        vertical-align: top;\n",
              "    }\n",
              "\n",
              "    .dataframe thead th {\n",
              "        text-align: right;\n",
              "    }\n",
              "</style>\n",
              "<table border=\"1\" class=\"dataframe\">\n",
              "  <thead>\n",
              "    <tr style=\"text-align: right;\">\n",
              "      <th></th>\n",
              "      <th>DepthFrom</th>\n",
              "      <th>DepthTo</th>\n",
              "      <th>LENGTH</th>\n",
              "      <th>Sample Rec_Pct</th>\n",
              "      <th>Rock %</th>\n",
              "      <th>Ni</th>\n",
              "      <th>Co</th>\n",
              "      <th>Al2O3</th>\n",
              "      <th>CaO</th>\n",
              "      <th>Cr2O3</th>\n",
              "      <th>...</th>\n",
              "      <th>MgO</th>\n",
              "      <th>BCMgO</th>\n",
              "      <th>MnO</th>\n",
              "      <th>P2O5</th>\n",
              "      <th>SiO2</th>\n",
              "      <th>SiO2/MgO</th>\n",
              "      <th>LOI</th>\n",
              "      <th>MC</th>\n",
              "      <th>MC_S</th>\n",
              "      <th>Alt_index</th>\n",
              "    </tr>\n",
              "  </thead>\n",
              "  <tbody>\n",
              "    <tr>\n",
              "      <th>count</th>\n",
              "      <td>4725.00000</td>\n",
              "      <td>4725.000000</td>\n",
              "      <td>4740.000000</td>\n",
              "      <td>1581.000000</td>\n",
              "      <td>1971.000000</td>\n",
              "      <td>4800.000000</td>\n",
              "      <td>4800.000000</td>\n",
              "      <td>4800.000000</td>\n",
              "      <td>4800.000000</td>\n",
              "      <td>4800.000000</td>\n",
              "      <td>...</td>\n",
              "      <td>4800.000000</td>\n",
              "      <td>4797.000000</td>\n",
              "      <td>4800.000000</td>\n",
              "      <td>4800.000000</td>\n",
              "      <td>4800.000000</td>\n",
              "      <td>4797.000000</td>\n",
              "      <td>4800.000000</td>\n",
              "      <td>4800.000000</td>\n",
              "      <td>4800.000000</td>\n",
              "      <td>4800.000000</td>\n",
              "    </tr>\n",
              "    <tr>\n",
              "      <th>mean</th>\n",
              "      <td>12.49367</td>\n",
              "      <td>13.489807</td>\n",
              "      <td>1.055479</td>\n",
              "      <td>95.207691</td>\n",
              "      <td>71.497463</td>\n",
              "      <td>0.807644</td>\n",
              "      <td>0.047059</td>\n",
              "      <td>3.347232</td>\n",
              "      <td>0.307105</td>\n",
              "      <td>1.368966</td>\n",
              "      <td>...</td>\n",
              "      <td>21.383248</td>\n",
              "      <td>22.259425</td>\n",
              "      <td>0.366468</td>\n",
              "      <td>0.014522</td>\n",
              "      <td>38.924622</td>\n",
              "      <td>6.563669</td>\n",
              "      <td>11.564348</td>\n",
              "      <td>26.133825</td>\n",
              "      <td>0.261338</td>\n",
              "      <td>2.134417</td>\n",
              "    </tr>\n",
              "    <tr>\n",
              "      <th>std</th>\n",
              "      <td>9.35294</td>\n",
              "      <td>9.356663</td>\n",
              "      <td>2.307985</td>\n",
              "      <td>11.851609</td>\n",
              "      <td>32.646619</td>\n",
              "      <td>0.544707</td>\n",
              "      <td>0.075558</td>\n",
              "      <td>4.951628</td>\n",
              "      <td>1.071067</td>\n",
              "      <td>1.506964</td>\n",
              "      <td>...</td>\n",
              "      <td>14.062890</td>\n",
              "      <td>61.582144</td>\n",
              "      <td>0.575353</td>\n",
              "      <td>0.044688</td>\n",
              "      <td>13.523412</td>\n",
              "      <td>12.938905</td>\n",
              "      <td>2.185957</td>\n",
              "      <td>13.077820</td>\n",
              "      <td>0.130778</td>\n",
              "      <td>1.874820</td>\n",
              "    </tr>\n",
              "    <tr>\n",
              "      <th>min</th>\n",
              "      <td>0.00000</td>\n",
              "      <td>0.500000</td>\n",
              "      <td>0.000000</td>\n",
              "      <td>15.000000</td>\n",
              "      <td>2.000000</td>\n",
              "      <td>0.000000</td>\n",
              "      <td>0.000890</td>\n",
              "      <td>0.100650</td>\n",
              "      <td>0.008500</td>\n",
              "      <td>0.000000</td>\n",
              "      <td>...</td>\n",
              "      <td>0.247500</td>\n",
              "      <td>0.247500</td>\n",
              "      <td>0.010200</td>\n",
              "      <td>0.000680</td>\n",
              "      <td>2.701177</td>\n",
              "      <td>0.009750</td>\n",
              "      <td>2.170000</td>\n",
              "      <td>0.097971</td>\n",
              "      <td>0.000980</td>\n",
              "      <td>0.003191</td>\n",
              "    </tr>\n",
              "    <tr>\n",
              "      <th>25%</th>\n",
              "      <td>5.00000</td>\n",
              "      <td>6.000000</td>\n",
              "      <td>1.000000</td>\n",
              "      <td>100.000000</td>\n",
              "      <td>40.000000</td>\n",
              "      <td>0.340000</td>\n",
              "      <td>0.009800</td>\n",
              "      <td>0.435600</td>\n",
              "      <td>0.019600</td>\n",
              "      <td>0.434250</td>\n",
              "      <td>...</td>\n",
              "      <td>4.570000</td>\n",
              "      <td>4.588100</td>\n",
              "      <td>0.107800</td>\n",
              "      <td>0.003201</td>\n",
              "      <td>37.089750</td>\n",
              "      <td>1.204215</td>\n",
              "      <td>10.660533</td>\n",
              "      <td>15.090089</td>\n",
              "      <td>0.150901</td>\n",
              "      <td>0.117074</td>\n",
              "    </tr>\n",
              "    <tr>\n",
              "      <th>50%</th>\n",
              "      <td>11.00000</td>\n",
              "      <td>12.000000</td>\n",
              "      <td>1.000000</td>\n",
              "      <td>100.000000</td>\n",
              "      <td>85.000000</td>\n",
              "      <td>0.699000</td>\n",
              "      <td>0.010200</td>\n",
              "      <td>0.825552</td>\n",
              "      <td>0.049000</td>\n",
              "      <td>0.690000</td>\n",
              "      <td>...</td>\n",
              "      <td>26.462700</td>\n",
              "      <td>26.510250</td>\n",
              "      <td>0.159400</td>\n",
              "      <td>0.004737</td>\n",
              "      <td>40.973300</td>\n",
              "      <td>1.704796</td>\n",
              "      <td>11.900000</td>\n",
              "      <td>26.946994</td>\n",
              "      <td>0.269470</td>\n",
              "      <td>2.004579</td>\n",
              "    </tr>\n",
              "    <tr>\n",
              "      <th>75%</th>\n",
              "      <td>18.00000</td>\n",
              "      <td>19.000000</td>\n",
              "      <td>1.000000</td>\n",
              "      <td>100.000000</td>\n",
              "      <td>100.000000</td>\n",
              "      <td>1.130000</td>\n",
              "      <td>0.058800</td>\n",
              "      <td>4.218234</td>\n",
              "      <td>0.130000</td>\n",
              "      <td>1.833650</td>\n",
              "      <td>...</td>\n",
              "      <td>34.182837</td>\n",
              "      <td>34.184700</td>\n",
              "      <td>0.339500</td>\n",
              "      <td>0.008703</td>\n",
              "      <td>45.628800</td>\n",
              "      <td>5.032548</td>\n",
              "      <td>12.918485</td>\n",
              "      <td>36.866085</td>\n",
              "      <td>0.368661</td>\n",
              "      <td>3.727116</td>\n",
              "    </tr>\n",
              "    <tr>\n",
              "      <th>max</th>\n",
              "      <td>56.00000</td>\n",
              "      <td>57.000000</td>\n",
              "      <td>85.000000</td>\n",
              "      <td>100.000000</td>\n",
              "      <td>354.000000</td>\n",
              "      <td>3.308000</td>\n",
              "      <td>1.225700</td>\n",
              "      <td>30.596001</td>\n",
              "      <td>10.781400</td>\n",
              "      <td>13.460000</td>\n",
              "      <td>...</td>\n",
              "      <td>43.978200</td>\n",
              "      <td>4174.000000</td>\n",
              "      <td>11.474200</td>\n",
              "      <td>0.702474</td>\n",
              "      <td>81.417600</td>\n",
              "      <td>179.812500</td>\n",
              "      <td>39.601386</td>\n",
              "      <td>63.289185</td>\n",
              "      <td>0.632892</td>\n",
              "      <td>9.347089</td>\n",
              "    </tr>\n",
              "  </tbody>\n",
              "</table>\n",
              "<p>8 rows × 22 columns</p>\n",
              "</div>\n",
              "      <button class=\"colab-df-convert\" onclick=\"convertToInteractive('df-08b8f71c-7a09-405f-8d0c-008039e5247a')\"\n",
              "              title=\"Convert this dataframe to an interactive table.\"\n",
              "              style=\"display:none;\">\n",
              "        \n",
              "  <svg xmlns=\"http://www.w3.org/2000/svg\" height=\"24px\"viewBox=\"0 0 24 24\"\n",
              "       width=\"24px\">\n",
              "    <path d=\"M0 0h24v24H0V0z\" fill=\"none\"/>\n",
              "    <path d=\"M18.56 5.44l.94 2.06.94-2.06 2.06-.94-2.06-.94-.94-2.06-.94 2.06-2.06.94zm-11 1L8.5 8.5l.94-2.06 2.06-.94-2.06-.94L8.5 2.5l-.94 2.06-2.06.94zm10 10l.94 2.06.94-2.06 2.06-.94-2.06-.94-.94-2.06-.94 2.06-2.06.94z\"/><path d=\"M17.41 7.96l-1.37-1.37c-.4-.4-.92-.59-1.43-.59-.52 0-1.04.2-1.43.59L10.3 9.45l-7.72 7.72c-.78.78-.78 2.05 0 2.83L4 21.41c.39.39.9.59 1.41.59.51 0 1.02-.2 1.41-.59l7.78-7.78 2.81-2.81c.8-.78.8-2.07 0-2.86zM5.41 20L4 18.59l7.72-7.72 1.47 1.35L5.41 20z\"/>\n",
              "  </svg>\n",
              "      </button>\n",
              "      \n",
              "  <style>\n",
              "    .colab-df-container {\n",
              "      display:flex;\n",
              "      flex-wrap:wrap;\n",
              "      gap: 12px;\n",
              "    }\n",
              "\n",
              "    .colab-df-convert {\n",
              "      background-color: #E8F0FE;\n",
              "      border: none;\n",
              "      border-radius: 50%;\n",
              "      cursor: pointer;\n",
              "      display: none;\n",
              "      fill: #1967D2;\n",
              "      height: 32px;\n",
              "      padding: 0 0 0 0;\n",
              "      width: 32px;\n",
              "    }\n",
              "\n",
              "    .colab-df-convert:hover {\n",
              "      background-color: #E2EBFA;\n",
              "      box-shadow: 0px 1px 2px rgba(60, 64, 67, 0.3), 0px 1px 3px 1px rgba(60, 64, 67, 0.15);\n",
              "      fill: #174EA6;\n",
              "    }\n",
              "\n",
              "    [theme=dark] .colab-df-convert {\n",
              "      background-color: #3B4455;\n",
              "      fill: #D2E3FC;\n",
              "    }\n",
              "\n",
              "    [theme=dark] .colab-df-convert:hover {\n",
              "      background-color: #434B5C;\n",
              "      box-shadow: 0px 1px 3px 1px rgba(0, 0, 0, 0.15);\n",
              "      filter: drop-shadow(0px 1px 2px rgba(0, 0, 0, 0.3));\n",
              "      fill: #FFFFFF;\n",
              "    }\n",
              "  </style>\n",
              "\n",
              "      <script>\n",
              "        const buttonEl =\n",
              "          document.querySelector('#df-08b8f71c-7a09-405f-8d0c-008039e5247a button.colab-df-convert');\n",
              "        buttonEl.style.display =\n",
              "          google.colab.kernel.accessAllowed ? 'block' : 'none';\n",
              "\n",
              "        async function convertToInteractive(key) {\n",
              "          const element = document.querySelector('#df-08b8f71c-7a09-405f-8d0c-008039e5247a');\n",
              "          const dataTable =\n",
              "            await google.colab.kernel.invokeFunction('convertToInteractive',\n",
              "                                                     [key], {});\n",
              "          if (!dataTable) return;\n",
              "\n",
              "          const docLinkHtml = 'Like what you see? Visit the ' +\n",
              "            '<a target=\"_blank\" href=https://colab.research.google.com/notebooks/data_table.ipynb>data table notebook</a>'\n",
              "            + ' to learn more about interactive tables.';\n",
              "          element.innerHTML = '';\n",
              "          dataTable['output_type'] = 'display_data';\n",
              "          await google.colab.output.renderOutput(dataTable, element);\n",
              "          const docLink = document.createElement('div');\n",
              "          docLink.innerHTML = docLinkHtml;\n",
              "          element.appendChild(docLink);\n",
              "        }\n",
              "      </script>\n",
              "    </div>\n",
              "  </div>\n",
              "  "
            ]
          },
          "metadata": {},
          "execution_count": 54
        }
      ],
      "source": [
        "assay_df.describe() # deskripsi data"
      ]
    },
    {
      "cell_type": "markdown",
      "id": "9025ec75",
      "metadata": {
        "id": "9025ec75"
      },
      "source": [
        "#### Scatter Plot"
      ]
    },
    {
      "cell_type": "code",
      "execution_count": 59,
      "id": "4cc2696f",
      "metadata": {
        "id": "4cc2696f"
      },
      "outputs": [],
      "source": [
        "df1=assay_df[assay_df['Major']=='LIM']\n",
        "df2=assay_df[assay_df['Major']=='RSAP']\n",
        "df3=assay_df[assay_df['Major']=='FSAP']\n",
        "df4=assay_df[assay_df['Major']=='BRK']\n",
        "df5=assay_df[assay_df['QC']=='BLANK']\n"
      ]
    },
    {
      "cell_type": "code",
      "source": [
        "df1.describe()\n"
      ],
      "metadata": {
        "id": "c-izKczpE1LL"
      },
      "execution_count": null,
      "outputs": [],
      "id": "c-izKczpE1LL"
    },
    {
      "cell_type": "markdown",
      "source": [
        "#### Scatter Plot untuk Limonite\n",
        "##### Range normal Ni untuk area Limonite, Rocky Saprolite, Fine Saprolite, Bedrock, dan Blank\n",
        "|Layer     |      AI    |    Ni     |   Al2O3  |   Fe2O3   |   MgO   |   SiO2   |\n",
        "|----------|------------|-----------|----------|-----------|---------|----------|\n",
        "|LIM       | 0.01 - 1   | 0.3 - 1.6 | 2 - 17   | 50 - 75   | 0.5 - 5 | 2 - 20   |\n",
        "|RSAP      | 1.5 - 4.5  | 1 - 2.5   | 0.9 - 3  | 8 - 19    | 30 - 40 | 35 - 75  |\n",
        "|FSAP      | 0.01 - 1.4 | 0.5 - 2.5 | 1 - 3    | 20 - 49   | 6 - 29  | 21 - 50  |\n",
        "|BRK       | 2 - 6      | 0.1 - 1   | 0.2 - 0.9| 3 - 12    | 41 - 45 | 36 - 82  |\n",
        "|BLANK     | 0.1 - 0.3  | 0.01-0.15 | 12 - 18  | 8 - 13    | 3 - 7   | 44 - 68  |"
      ],
      "metadata": {
        "id": "tXCq3JerZkx5"
      },
      "id": "tXCq3JerZkx5"
    },
    {
      "cell_type": "code",
      "source": [
        "sns.scatterplot(x='Alt_index', y='Ni', color='blue', data=df1, label = 'LIM')"
      ],
      "metadata": {
        "id": "kAJw2xInm_-3"
      },
      "id": "kAJw2xInm_-3",
      "execution_count": null,
      "outputs": []
    },
    {
      "cell_type": "code",
      "source": [
        "sns.scatterplot(x='Alt_index', y='Al2O3', color='blue', data=df1, label = 'LIM')"
      ],
      "metadata": {
        "id": "VUmcLmwcPV60"
      },
      "id": "VUmcLmwcPV60",
      "execution_count": null,
      "outputs": []
    },
    {
      "cell_type": "code",
      "source": [
        "sns.scatterplot(x='Alt_index', y='Fe2O3', color='blue', data=df1, label = 'LIM')"
      ],
      "metadata": {
        "id": "UhmSNvqeRL4l"
      },
      "execution_count": null,
      "outputs": [],
      "id": "UhmSNvqeRL4l"
    },
    {
      "cell_type": "code",
      "source": [
        "sns.scatterplot(x='Alt_index', y='MgO', color='blue', data=df1, label = 'LIM')"
      ],
      "metadata": {
        "id": "3OmoIY1sRDEh"
      },
      "execution_count": null,
      "outputs": [],
      "id": "3OmoIY1sRDEh"
    },
    {
      "cell_type": "code",
      "source": [
        "sns.scatterplot(x='Alt_index', y='SiO2', color='blue', data=df1, label = 'LIM')"
      ],
      "metadata": {
        "id": "1b2dyt35RATE"
      },
      "execution_count": null,
      "outputs": [],
      "id": "1b2dyt35RATE"
    },
    {
      "cell_type": "markdown",
      "source": [
        "Cek ulang sample dengan Ni > 1.5 dan Fe < 25, perhatikan fotocore dan posisi from to nya"
      ],
      "metadata": {
        "id": "b6f1b7d4"
      },
      "id": "b6f1b7d4"
    },
    {
      "cell_type": "code",
      "execution_count": null,
      "id": "c07fa779",
      "metadata": {
        "id": "c07fa779"
      },
      "outputs": [],
      "source": [
        "sns.scatterplot(x='Alt_index', y='Ni', color = 'orange', data=df2,label = 'RSAP')"
      ]
    },
    {
      "cell_type": "code",
      "source": [
        "sns.scatterplot(x='Alt_index', y='Al2O3', color = 'orange', data=df2,label = 'RSAP')"
      ],
      "metadata": {
        "id": "gPE1VQsHUB6s"
      },
      "id": "gPE1VQsHUB6s",
      "execution_count": null,
      "outputs": []
    },
    {
      "cell_type": "code",
      "source": [
        "sns.scatterplot(x='Alt_index', y='Fe2O3', color = 'orange', data=df2,label = 'RSAP')"
      ],
      "metadata": {
        "id": "wD0oSzubUD-w"
      },
      "id": "wD0oSzubUD-w",
      "execution_count": null,
      "outputs": []
    },
    {
      "cell_type": "code",
      "source": [
        "sns.scatterplot(x='Alt_index', y='MgO', color = 'orange', data=df2,label = 'RSAP')"
      ],
      "metadata": {
        "id": "aXU76COkUFdK"
      },
      "id": "aXU76COkUFdK",
      "execution_count": null,
      "outputs": []
    },
    {
      "cell_type": "code",
      "source": [
        "sns.scatterplot(x='Alt_index', y='SiO2', color = 'orange', data=df2,label = 'RSAP')"
      ],
      "metadata": {
        "id": "Kve507THUHWF"
      },
      "id": "Kve507THUHWF",
      "execution_count": null,
      "outputs": []
    },
    {
      "cell_type": "markdown",
      "id": "b9605049",
      "metadata": {
        "id": "b9605049"
      },
      "source": [
        "Cek ulang sample dengan Ni<0.5 dan Fe < 10 (mungkin brk, cek MgO dan Co nya)"
      ]
    },
    {
      "cell_type": "code",
      "execution_count": null,
      "id": "910c235d",
      "metadata": {
        "id": "910c235d"
      },
      "outputs": [],
      "source": [
        "sns.scatterplot(x='Alt_index', y='Ni', color = 'green', data=df3,label ='FSAP')"
      ]
    },
    {
      "cell_type": "code",
      "execution_count": null,
      "metadata": {
        "id": "qZvaocF7Wyx2"
      },
      "outputs": [],
      "source": [
        "sns.scatterplot(x='Alt_index', y='Al2O3', color = 'green', data=df3,label ='FSAP')"
      ],
      "id": "qZvaocF7Wyx2"
    },
    {
      "cell_type": "code",
      "execution_count": null,
      "metadata": {
        "id": "ScVXKttPW0sG"
      },
      "outputs": [],
      "source": [
        "sns.scatterplot(x='Alt_index', y='Fe2O3', color = 'green', data=df3,label ='FSAP')"
      ],
      "id": "ScVXKttPW0sG"
    },
    {
      "cell_type": "code",
      "execution_count": null,
      "metadata": {
        "id": "sV4toOMtWwzZ"
      },
      "outputs": [],
      "source": [
        "sns.scatterplot(x='Alt_index', y='MgO', color = 'green', data=df3,label ='FSAP')"
      ],
      "id": "sV4toOMtWwzZ"
    },
    {
      "cell_type": "code",
      "execution_count": null,
      "metadata": {
        "id": "X5MrL-OBXEwR"
      },
      "outputs": [],
      "source": [
        "sns.scatterplot(x='Alt_index', y='SiO2', color = 'green', data=df3,label ='FSAP')"
      ],
      "id": "X5MrL-OBXEwR"
    },
    {
      "cell_type": "code",
      "execution_count": null,
      "metadata": {
        "id": "Zh1ZlJjtTHCW"
      },
      "outputs": [],
      "source": [
        "sns.scatterplot(x='Alt_index', y='Ni', color = 'violet', data=df4,label ='BRK')"
      ],
      "id": "Zh1ZlJjtTHCW"
    },
    {
      "cell_type": "code",
      "execution_count": null,
      "metadata": {
        "id": "kno9JkJwXjm9"
      },
      "outputs": [],
      "source": [
        "sns.scatterplot(x='Alt_index', y='Al2O3', color = 'violet', data=df4,label ='BRK')"
      ],
      "id": "kno9JkJwXjm9"
    },
    {
      "cell_type": "code",
      "execution_count": null,
      "metadata": {
        "id": "E_B_KV3eXkDg"
      },
      "outputs": [],
      "source": [
        "sns.scatterplot(x='Alt_index', y='Fe2O3', color = 'violet', data=df4,label ='BRK')"
      ],
      "id": "E_B_KV3eXkDg"
    },
    {
      "cell_type": "code",
      "execution_count": null,
      "metadata": {
        "id": "CIE6yptmXkb5"
      },
      "outputs": [],
      "source": [
        "sns.scatterplot(x='Alt_index', y='MgO', color = 'violet', data=df4,label ='BRK')"
      ],
      "id": "CIE6yptmXkb5"
    },
    {
      "cell_type": "code",
      "execution_count": null,
      "metadata": {
        "id": "W0RNVBAaXkq1"
      },
      "outputs": [],
      "source": [
        "sns.scatterplot(x='Alt_index', y='SiO2', color = 'violet', data=df4,label ='BRK')"
      ],
      "id": "W0RNVBAaXkq1"
    },
    {
      "cell_type": "code",
      "execution_count": null,
      "metadata": {
        "id": "-oUs5Z5LTRRz"
      },
      "outputs": [],
      "source": [
        "sns.scatterplot(x='Alt_index', y='Ni', color = 'yellow', data=df5,label ='BLANK')"
      ],
      "id": "-oUs5Z5LTRRz"
    },
    {
      "cell_type": "code",
      "execution_count": null,
      "metadata": {
        "id": "g7yN3eHPYQbm"
      },
      "outputs": [],
      "source": [
        "sns.scatterplot(x='Alt_index', y='Al2O3', color = 'yellow', data=df5,label ='BLANK')"
      ],
      "id": "g7yN3eHPYQbm"
    },
    {
      "cell_type": "code",
      "execution_count": null,
      "metadata": {
        "id": "5NCY9IzBYQ-m"
      },
      "outputs": [],
      "source": [
        "sns.scatterplot(x='Alt_index', y='Fe2O3', color = 'yellow', data=df5,label ='BLANK')"
      ],
      "id": "5NCY9IzBYQ-m"
    },
    {
      "cell_type": "code",
      "execution_count": null,
      "metadata": {
        "id": "dHIybY7TYRJa"
      },
      "outputs": [],
      "source": [
        "sns.scatterplot(x='Alt_index', y='MgO', color = 'yellow', data=df5,label ='BLANK')"
      ],
      "id": "dHIybY7TYRJa"
    },
    {
      "cell_type": "code",
      "execution_count": null,
      "metadata": {
        "id": "s-lSwnj_YRWk"
      },
      "outputs": [],
      "source": [
        "sns.scatterplot(x='Alt_index', y='SiO2', color = 'yellow', data=df5,label ='BLANK')"
      ],
      "id": "s-lSwnj_YRWk"
    },
    {
      "cell_type": "markdown",
      "id": "29bdd15a",
      "metadata": {
        "id": "29bdd15a"
      },
      "source": [
        "Cek Outliers"
      ]
    },
    {
      "cell_type": "code",
      "execution_count": null,
      "id": "f4327320",
      "metadata": {
        "id": "f4327320"
      },
      "outputs": [],
      "source": [
        "sns.scatterplot(x='NI', y='MGO', color = 'orange', data=df2,label = 'SAP')"
      ]
    },
    {
      "cell_type": "markdown",
      "id": "c965ecb3",
      "metadata": {
        "id": "c965ecb3"
      },
      "source": [
        "Cek Low Ni with high MgO"
      ]
    },
    {
      "cell_type": "code",
      "execution_count": null,
      "id": "45e17076",
      "metadata": {
        "id": "45e17076"
      },
      "outputs": [],
      "source": [
        "sns.scatterplot(x='NI', y='MGO', color = 'green', data=df3,label ='BRK')"
      ]
    },
    {
      "cell_type": "markdown",
      "id": "c0d4e074",
      "metadata": {
        "id": "c0d4e074"
      },
      "source": [
        "Cek Ni > 1 dan MgO < 25"
      ]
    },
    {
      "cell_type": "code",
      "execution_count": null,
      "id": "c0de7d3e",
      "metadata": {
        "id": "c0de7d3e"
      },
      "outputs": [],
      "source": [
        "sns.scatterplot(x='NI', y='MGO', data=assay_df, hue='LYR')"
      ]
    },
    {
      "cell_type": "markdown",
      "id": "4abb973b",
      "metadata": {
        "id": "4abb973b"
      },
      "source": [
        "#### Kesimpulan\n",
        "Pada dasarnya interpretasi profil geologi sudah bisa diterima, dengan catatan beberapa outlier dicek ulang. Proses EDA sudah selesai, berikutnya adalah pemodelan geologi menggunakan metode geostatistik kriging (dan Nearest Neighbour sebagai pembanding). Di bawah ini merupakan estimasi tanpa spatial(collar/koordinat) menggunakan K-Nearest Neighbour hanya untuk pembelajaran/eksperimen machine learning perilaku pada dataset assay Nikel laterite."
      ]
    }
  ],
  "metadata": {
    "kernelspec": {
      "display_name": "Python 3 (ipykernel)",
      "language": "python",
      "name": "python3"
    },
    "language_info": {
      "codemirror_mode": {
        "name": "ipython",
        "version": 3
      },
      "file_extension": ".py",
      "mimetype": "text/x-python",
      "name": "python",
      "nbconvert_exporter": "python",
      "pygments_lexer": "ipython3",
      "version": "3.9.7"
    },
    "colab": {
      "name": "Copy of EDA.ipynb",
      "provenance": [],
      "include_colab_link": true
    }
  },
  "nbformat": 4,
  "nbformat_minor": 5
}